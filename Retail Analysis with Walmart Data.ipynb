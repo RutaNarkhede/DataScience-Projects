{
 "cells": [
  {
   "cell_type": "code",
   "execution_count": 1,
   "id": "13c0231d",
   "metadata": {},
   "outputs": [],
   "source": [
    "# Import the libraries\n",
    "import numpy as np\n",
    "import pandas as pd\n",
    "import matplotlib.pyplot as plt\n",
    "%matplotlib inline\n",
    "import seaborn as sns"
   ]
  },
  {
   "cell_type": "code",
   "execution_count": 2,
   "id": "1c377971",
   "metadata": {},
   "outputs": [
    {
     "name": "stdout",
     "output_type": "stream",
     "text": [
      "C:\\Users\\anupz\\Desktop\\simplilearn\\data science with python\\datafiles\\simplilearn projects\\1577429980_walmart_store_sales\n"
     ]
    }
   ],
   "source": [
    "import io\n",
    "%cd \"C:\\Users\\anupz\\Desktop\\simplilearn\\data science with python\\datafiles\\simplilearn projects\\1577429980_walmart_store_sales\""
   ]
  },
  {
   "cell_type": "code",
   "execution_count": 3,
   "id": "176ad162",
   "metadata": {},
   "outputs": [],
   "source": [
    "walmart = pd.read_csv('Walmart_Store_sales.csv')"
   ]
  },
  {
   "cell_type": "code",
   "execution_count": 4,
   "id": "30d2b926",
   "metadata": {},
   "outputs": [
    {
     "data": {
      "text/plain": [
       "(6435, 8)"
      ]
     },
     "execution_count": 4,
     "metadata": {},
     "output_type": "execute_result"
    }
   ],
   "source": [
    "walmart.shape"
   ]
  },
  {
   "cell_type": "code",
   "execution_count": 5,
   "id": "db7b9b96",
   "metadata": {},
   "outputs": [
    {
     "data": {
      "text/html": [
       "<div>\n",
       "<style scoped>\n",
       "    .dataframe tbody tr th:only-of-type {\n",
       "        vertical-align: middle;\n",
       "    }\n",
       "\n",
       "    .dataframe tbody tr th {\n",
       "        vertical-align: top;\n",
       "    }\n",
       "\n",
       "    .dataframe thead th {\n",
       "        text-align: right;\n",
       "    }\n",
       "</style>\n",
       "<table border=\"1\" class=\"dataframe\">\n",
       "  <thead>\n",
       "    <tr style=\"text-align: right;\">\n",
       "      <th></th>\n",
       "      <th>Store</th>\n",
       "      <th>Date</th>\n",
       "      <th>Weekly_Sales</th>\n",
       "      <th>Holiday_Flag</th>\n",
       "      <th>Temperature</th>\n",
       "      <th>Fuel_Price</th>\n",
       "      <th>CPI</th>\n",
       "      <th>Unemployment</th>\n",
       "    </tr>\n",
       "  </thead>\n",
       "  <tbody>\n",
       "    <tr>\n",
       "      <th>0</th>\n",
       "      <td>1</td>\n",
       "      <td>05-02-2010</td>\n",
       "      <td>1643690.90</td>\n",
       "      <td>0</td>\n",
       "      <td>42.31</td>\n",
       "      <td>2.572</td>\n",
       "      <td>211.096358</td>\n",
       "      <td>8.106</td>\n",
       "    </tr>\n",
       "    <tr>\n",
       "      <th>1</th>\n",
       "      <td>1</td>\n",
       "      <td>12-02-2010</td>\n",
       "      <td>1641957.44</td>\n",
       "      <td>1</td>\n",
       "      <td>38.51</td>\n",
       "      <td>2.548</td>\n",
       "      <td>211.242170</td>\n",
       "      <td>8.106</td>\n",
       "    </tr>\n",
       "    <tr>\n",
       "      <th>2</th>\n",
       "      <td>1</td>\n",
       "      <td>19-02-2010</td>\n",
       "      <td>1611968.17</td>\n",
       "      <td>0</td>\n",
       "      <td>39.93</td>\n",
       "      <td>2.514</td>\n",
       "      <td>211.289143</td>\n",
       "      <td>8.106</td>\n",
       "    </tr>\n",
       "    <tr>\n",
       "      <th>3</th>\n",
       "      <td>1</td>\n",
       "      <td>26-02-2010</td>\n",
       "      <td>1409727.59</td>\n",
       "      <td>0</td>\n",
       "      <td>46.63</td>\n",
       "      <td>2.561</td>\n",
       "      <td>211.319643</td>\n",
       "      <td>8.106</td>\n",
       "    </tr>\n",
       "    <tr>\n",
       "      <th>4</th>\n",
       "      <td>1</td>\n",
       "      <td>05-03-2010</td>\n",
       "      <td>1554806.68</td>\n",
       "      <td>0</td>\n",
       "      <td>46.50</td>\n",
       "      <td>2.625</td>\n",
       "      <td>211.350143</td>\n",
       "      <td>8.106</td>\n",
       "    </tr>\n",
       "  </tbody>\n",
       "</table>\n",
       "</div>"
      ],
      "text/plain": [
       "   Store        Date  Weekly_Sales  Holiday_Flag  Temperature  Fuel_Price  \\\n",
       "0      1  05-02-2010    1643690.90             0        42.31       2.572   \n",
       "1      1  12-02-2010    1641957.44             1        38.51       2.548   \n",
       "2      1  19-02-2010    1611968.17             0        39.93       2.514   \n",
       "3      1  26-02-2010    1409727.59             0        46.63       2.561   \n",
       "4      1  05-03-2010    1554806.68             0        46.50       2.625   \n",
       "\n",
       "          CPI  Unemployment  \n",
       "0  211.096358         8.106  \n",
       "1  211.242170         8.106  \n",
       "2  211.289143         8.106  \n",
       "3  211.319643         8.106  \n",
       "4  211.350143         8.106  "
      ]
     },
     "execution_count": 5,
     "metadata": {},
     "output_type": "execute_result"
    }
   ],
   "source": [
    "walmart.head()"
   ]
  },
  {
   "cell_type": "code",
   "execution_count": 6,
   "id": "3f85d571",
   "metadata": {},
   "outputs": [],
   "source": [
    "# Check for missing values"
   ]
  },
  {
   "cell_type": "code",
   "execution_count": 7,
   "id": "d2662c16",
   "metadata": {},
   "outputs": [
    {
     "name": "stdout",
     "output_type": "stream",
     "text": [
      "<class 'pandas.core.frame.DataFrame'>\n",
      "RangeIndex: 6435 entries, 0 to 6434\n",
      "Data columns (total 8 columns):\n",
      " #   Column        Non-Null Count  Dtype  \n",
      "---  ------        --------------  -----  \n",
      " 0   Store         6435 non-null   int64  \n",
      " 1   Date          6435 non-null   object \n",
      " 2   Weekly_Sales  6435 non-null   float64\n",
      " 3   Holiday_Flag  6435 non-null   int64  \n",
      " 4   Temperature   6435 non-null   float64\n",
      " 5   Fuel_Price    6435 non-null   float64\n",
      " 6   CPI           6435 non-null   float64\n",
      " 7   Unemployment  6435 non-null   float64\n",
      "dtypes: float64(5), int64(2), object(1)\n",
      "memory usage: 402.3+ KB\n"
     ]
    }
   ],
   "source": [
    "walmart.info()"
   ]
  },
  {
   "cell_type": "code",
   "execution_count": 8,
   "id": "1fdb6a74",
   "metadata": {},
   "outputs": [],
   "source": [
    "# There are no missing values"
   ]
  },
  {
   "cell_type": "code",
   "execution_count": 9,
   "id": "f2efe8c1",
   "metadata": {},
   "outputs": [],
   "source": [
    "# Date is in object data type. We should change it to datetime format\n",
    "walmart.Date = pd.to_datetime(walmart.Date,dayfirst=True)"
   ]
  },
  {
   "cell_type": "code",
   "execution_count": 10,
   "id": "5297cd85",
   "metadata": {},
   "outputs": [],
   "source": [
    "# to remove the scientific notation of large numbers\n",
    "pd.set_option('display.float_format', lambda x: '%.2f' % x)"
   ]
  },
  {
   "cell_type": "code",
   "execution_count": 11,
   "id": "788c5f1b",
   "metadata": {},
   "outputs": [],
   "source": [
    "# Extract the month and year from date\n",
    "walmart['Month'] = walmart.Date.dt.month\n",
    "walmart['Year'] = walmart.Date.dt.year"
   ]
  },
  {
   "cell_type": "code",
   "execution_count": 12,
   "id": "3f20dabc",
   "metadata": {},
   "outputs": [
    {
     "data": {
      "text/html": [
       "<div>\n",
       "<style scoped>\n",
       "    .dataframe tbody tr th:only-of-type {\n",
       "        vertical-align: middle;\n",
       "    }\n",
       "\n",
       "    .dataframe tbody tr th {\n",
       "        vertical-align: top;\n",
       "    }\n",
       "\n",
       "    .dataframe thead th {\n",
       "        text-align: right;\n",
       "    }\n",
       "</style>\n",
       "<table border=\"1\" class=\"dataframe\">\n",
       "  <thead>\n",
       "    <tr style=\"text-align: right;\">\n",
       "      <th></th>\n",
       "      <th>Store</th>\n",
       "      <th>Date</th>\n",
       "      <th>Weekly_Sales</th>\n",
       "      <th>Holiday_Flag</th>\n",
       "      <th>Temperature</th>\n",
       "      <th>Fuel_Price</th>\n",
       "      <th>CPI</th>\n",
       "      <th>Unemployment</th>\n",
       "      <th>Month</th>\n",
       "      <th>Year</th>\n",
       "    </tr>\n",
       "  </thead>\n",
       "  <tbody>\n",
       "    <tr>\n",
       "      <th>0</th>\n",
       "      <td>1</td>\n",
       "      <td>2010-02-05</td>\n",
       "      <td>1643690.90</td>\n",
       "      <td>0</td>\n",
       "      <td>42.31</td>\n",
       "      <td>2.57</td>\n",
       "      <td>211.10</td>\n",
       "      <td>8.11</td>\n",
       "      <td>2</td>\n",
       "      <td>2010</td>\n",
       "    </tr>\n",
       "    <tr>\n",
       "      <th>1</th>\n",
       "      <td>1</td>\n",
       "      <td>2010-02-12</td>\n",
       "      <td>1641957.44</td>\n",
       "      <td>1</td>\n",
       "      <td>38.51</td>\n",
       "      <td>2.55</td>\n",
       "      <td>211.24</td>\n",
       "      <td>8.11</td>\n",
       "      <td>2</td>\n",
       "      <td>2010</td>\n",
       "    </tr>\n",
       "    <tr>\n",
       "      <th>2</th>\n",
       "      <td>1</td>\n",
       "      <td>2010-02-19</td>\n",
       "      <td>1611968.17</td>\n",
       "      <td>0</td>\n",
       "      <td>39.93</td>\n",
       "      <td>2.51</td>\n",
       "      <td>211.29</td>\n",
       "      <td>8.11</td>\n",
       "      <td>2</td>\n",
       "      <td>2010</td>\n",
       "    </tr>\n",
       "    <tr>\n",
       "      <th>3</th>\n",
       "      <td>1</td>\n",
       "      <td>2010-02-26</td>\n",
       "      <td>1409727.59</td>\n",
       "      <td>0</td>\n",
       "      <td>46.63</td>\n",
       "      <td>2.56</td>\n",
       "      <td>211.32</td>\n",
       "      <td>8.11</td>\n",
       "      <td>2</td>\n",
       "      <td>2010</td>\n",
       "    </tr>\n",
       "    <tr>\n",
       "      <th>4</th>\n",
       "      <td>1</td>\n",
       "      <td>2010-03-05</td>\n",
       "      <td>1554806.68</td>\n",
       "      <td>0</td>\n",
       "      <td>46.50</td>\n",
       "      <td>2.62</td>\n",
       "      <td>211.35</td>\n",
       "      <td>8.11</td>\n",
       "      <td>3</td>\n",
       "      <td>2010</td>\n",
       "    </tr>\n",
       "  </tbody>\n",
       "</table>\n",
       "</div>"
      ],
      "text/plain": [
       "   Store       Date  Weekly_Sales  Holiday_Flag  Temperature  Fuel_Price  \\\n",
       "0      1 2010-02-05    1643690.90             0        42.31        2.57   \n",
       "1      1 2010-02-12    1641957.44             1        38.51        2.55   \n",
       "2      1 2010-02-19    1611968.17             0        39.93        2.51   \n",
       "3      1 2010-02-26    1409727.59             0        46.63        2.56   \n",
       "4      1 2010-03-05    1554806.68             0        46.50        2.62   \n",
       "\n",
       "     CPI  Unemployment  Month  Year  \n",
       "0 211.10          8.11      2  2010  \n",
       "1 211.24          8.11      2  2010  \n",
       "2 211.29          8.11      2  2010  \n",
       "3 211.32          8.11      2  2010  \n",
       "4 211.35          8.11      3  2010  "
      ]
     },
     "execution_count": 12,
     "metadata": {},
     "output_type": "execute_result"
    }
   ],
   "source": [
    "walmart.head()"
   ]
  },
  {
   "cell_type": "code",
   "execution_count": 13,
   "id": "be7d91b5",
   "metadata": {},
   "outputs": [],
   "source": [
    "# Analysis task- \n",
    "#Which store has maximum sales"
   ]
  },
  {
   "cell_type": "code",
   "execution_count": 14,
   "id": "a8297d15",
   "metadata": {},
   "outputs": [
    {
     "data": {
      "image/png": "[encoded data removed]",
      "text/plain": [
       "<Figure size 720x504 with 1 Axes>"
      ]
     },
     "metadata": {
      "needs_background": "light"
     },
     "output_type": "display_data"
    }
   ],
   "source": [
    "plt.figure(figsize=(10,7))\n",
    "walmart.Weekly_Sales.groupby(walmart.Store).sum().sort_values(ascending=False).plot(kind='bar')\n",
    "plt.ticklabel_format(style='plain',axis='y')"
   ]
  },
  {
   "cell_type": "code",
   "execution_count": 15,
   "id": "e89b4dee",
   "metadata": {},
   "outputs": [],
   "source": [
    "# from the above graph we can see that Store number 20 has the maximum sales"
   ]
  },
  {
   "cell_type": "code",
   "execution_count": 16,
   "id": "c1602034",
   "metadata": {},
   "outputs": [],
   "source": [
    "#Which store has maximum standard deviation i.e., the sales vary a lot. \n",
    "#Also, find out the coefficient of mean to standard deviation"
   ]
  },
  {
   "cell_type": "code",
   "execution_count": 17,
   "id": "f83ebefc",
   "metadata": {},
   "outputs": [
    {
     "data": {
      "image/png": "[encoded data removed]",
      "text/plain": [
       "<Figure size 720x504 with 1 Axes>"
      ]
     },
     "metadata": {
      "needs_background": "light"
     },
     "output_type": "display_data"
    }
   ],
   "source": [
    "plt.figure(figsize=(10,7))\n",
    "walmart.Weekly_Sales.groupby(walmart.Store).std().sort_values(ascending=False).plot(kind='bar')\n",
    "plt.ticklabel_format(style='plain',axis='y')"
   ]
  },
  {
   "cell_type": "code",
   "execution_count": 18,
   "id": "b585296b",
   "metadata": {},
   "outputs": [],
   "source": [
    "# Store number 14 has the maximum standard deviation"
   ]
  },
  {
   "cell_type": "code",
   "execution_count": 19,
   "id": "eb7e043a",
   "metadata": {},
   "outputs": [],
   "source": [
    "# for coefficient of mean to std dev"
   ]
  },
  {
   "cell_type": "code",
   "execution_count": 20,
   "id": "91513f4a",
   "metadata": {},
   "outputs": [],
   "source": [
    "store14 = walmart[walmart.Store==14].Weekly_Sales"
   ]
  },
  {
   "cell_type": "code",
   "execution_count": 21,
   "id": "6bad6659",
   "metadata": {},
   "outputs": [
    {
     "data": {
      "text/plain": [
       "15.713673600948338"
      ]
     },
     "execution_count": 21,
     "metadata": {},
     "output_type": "execute_result"
    }
   ],
   "source": [
    "coeff = store14.std()/store14.mean()*100\n",
    "coeff"
   ]
  },
  {
   "cell_type": "code",
   "execution_count": 22,
   "id": "9561f03b",
   "metadata": {},
   "outputs": [],
   "source": [
    "#Which store/s has good quarterly growth rate in Q3’2012"
   ]
  },
  {
   "cell_type": "code",
   "execution_count": 23,
   "id": "3f671a8c",
   "metadata": {},
   "outputs": [],
   "source": [
    "Q2_2012 = walmart[(walmart.Year == 2012) & (walmart.Month <7) & (walmart.Month>3 )]"
   ]
  },
  {
   "cell_type": "code",
   "execution_count": 24,
   "id": "aa7ef605",
   "metadata": {},
   "outputs": [
    {
     "data": {
      "text/html": [
       "<div>\n",
       "<style scoped>\n",
       "    .dataframe tbody tr th:only-of-type {\n",
       "        vertical-align: middle;\n",
       "    }\n",
       "\n",
       "    .dataframe tbody tr th {\n",
       "        vertical-align: top;\n",
       "    }\n",
       "\n",
       "    .dataframe thead th {\n",
       "        text-align: right;\n",
       "    }\n",
       "</style>\n",
       "<table border=\"1\" class=\"dataframe\">\n",
       "  <thead>\n",
       "    <tr style=\"text-align: right;\">\n",
       "      <th></th>\n",
       "      <th>Store</th>\n",
       "      <th>Date</th>\n",
       "      <th>Weekly_Sales</th>\n",
       "      <th>Holiday_Flag</th>\n",
       "      <th>Temperature</th>\n",
       "      <th>Fuel_Price</th>\n",
       "      <th>CPI</th>\n",
       "      <th>Unemployment</th>\n",
       "      <th>Month</th>\n",
       "      <th>Year</th>\n",
       "    </tr>\n",
       "  </thead>\n",
       "  <tbody>\n",
       "    <tr>\n",
       "      <th>113</th>\n",
       "      <td>1</td>\n",
       "      <td>2012-04-06</td>\n",
       "      <td>1899676.88</td>\n",
       "      <td>0</td>\n",
       "      <td>70.43</td>\n",
       "      <td>3.89</td>\n",
       "      <td>221.44</td>\n",
       "      <td>7.14</td>\n",
       "      <td>4</td>\n",
       "      <td>2012</td>\n",
       "    </tr>\n",
       "    <tr>\n",
       "      <th>114</th>\n",
       "      <td>1</td>\n",
       "      <td>2012-04-13</td>\n",
       "      <td>1621031.70</td>\n",
       "      <td>0</td>\n",
       "      <td>69.07</td>\n",
       "      <td>3.89</td>\n",
       "      <td>221.51</td>\n",
       "      <td>7.14</td>\n",
       "      <td>4</td>\n",
       "      <td>2012</td>\n",
       "    </tr>\n",
       "    <tr>\n",
       "      <th>115</th>\n",
       "      <td>1</td>\n",
       "      <td>2012-04-20</td>\n",
       "      <td>1521577.87</td>\n",
       "      <td>0</td>\n",
       "      <td>66.76</td>\n",
       "      <td>3.88</td>\n",
       "      <td>221.56</td>\n",
       "      <td>7.14</td>\n",
       "      <td>4</td>\n",
       "      <td>2012</td>\n",
       "    </tr>\n",
       "    <tr>\n",
       "      <th>116</th>\n",
       "      <td>1</td>\n",
       "      <td>2012-04-27</td>\n",
       "      <td>1468928.37</td>\n",
       "      <td>0</td>\n",
       "      <td>67.23</td>\n",
       "      <td>3.81</td>\n",
       "      <td>221.62</td>\n",
       "      <td>7.14</td>\n",
       "      <td>4</td>\n",
       "      <td>2012</td>\n",
       "    </tr>\n",
       "    <tr>\n",
       "      <th>117</th>\n",
       "      <td>1</td>\n",
       "      <td>2012-05-04</td>\n",
       "      <td>1684519.99</td>\n",
       "      <td>0</td>\n",
       "      <td>75.55</td>\n",
       "      <td>3.75</td>\n",
       "      <td>221.67</td>\n",
       "      <td>7.14</td>\n",
       "      <td>5</td>\n",
       "      <td>2012</td>\n",
       "    </tr>\n",
       "  </tbody>\n",
       "</table>\n",
       "</div>"
      ],
      "text/plain": [
       "     Store       Date  Weekly_Sales  Holiday_Flag  Temperature  Fuel_Price  \\\n",
       "113      1 2012-04-06    1899676.88             0        70.43        3.89   \n",
       "114      1 2012-04-13    1621031.70             0        69.07        3.89   \n",
       "115      1 2012-04-20    1521577.87             0        66.76        3.88   \n",
       "116      1 2012-04-27    1468928.37             0        67.23        3.81   \n",
       "117      1 2012-05-04    1684519.99             0        75.55        3.75   \n",
       "\n",
       "       CPI  Unemployment  Month  Year  \n",
       "113 221.44          7.14      4  2012  \n",
       "114 221.51          7.14      4  2012  \n",
       "115 221.56          7.14      4  2012  \n",
       "116 221.62          7.14      4  2012  \n",
       "117 221.67          7.14      5  2012  "
      ]
     },
     "execution_count": 24,
     "metadata": {},
     "output_type": "execute_result"
    }
   ],
   "source": [
    "Q2_2012.head()"
   ]
  },
  {
   "cell_type": "code",
   "execution_count": 25,
   "id": "c63d8468",
   "metadata": {},
   "outputs": [],
   "source": [
    "Q3_2012 = walmart[(walmart.Year == 2012) & (walmart.Month <10) & (walmart.Month>6 )]"
   ]
  },
  {
   "cell_type": "code",
   "execution_count": 26,
   "id": "bdbbc319",
   "metadata": {},
   "outputs": [
    {
     "data": {
      "text/html": [
       "<div>\n",
       "<style scoped>\n",
       "    .dataframe tbody tr th:only-of-type {\n",
       "        vertical-align: middle;\n",
       "    }\n",
       "\n",
       "    .dataframe tbody tr th {\n",
       "        vertical-align: top;\n",
       "    }\n",
       "\n",
       "    .dataframe thead th {\n",
       "        text-align: right;\n",
       "    }\n",
       "</style>\n",
       "<table border=\"1\" class=\"dataframe\">\n",
       "  <thead>\n",
       "    <tr style=\"text-align: right;\">\n",
       "      <th></th>\n",
       "      <th>Store</th>\n",
       "      <th>Date</th>\n",
       "      <th>Weekly_Sales</th>\n",
       "      <th>Holiday_Flag</th>\n",
       "      <th>Temperature</th>\n",
       "      <th>Fuel_Price</th>\n",
       "      <th>CPI</th>\n",
       "      <th>Unemployment</th>\n",
       "      <th>Month</th>\n",
       "      <th>Year</th>\n",
       "    </tr>\n",
       "  </thead>\n",
       "  <tbody>\n",
       "    <tr>\n",
       "      <th>126</th>\n",
       "      <td>1</td>\n",
       "      <td>2012-07-06</td>\n",
       "      <td>1769854.16</td>\n",
       "      <td>0</td>\n",
       "      <td>81.57</td>\n",
       "      <td>3.23</td>\n",
       "      <td>221.88</td>\n",
       "      <td>6.91</td>\n",
       "      <td>7</td>\n",
       "      <td>2012</td>\n",
       "    </tr>\n",
       "    <tr>\n",
       "      <th>127</th>\n",
       "      <td>1</td>\n",
       "      <td>2012-07-13</td>\n",
       "      <td>1527014.04</td>\n",
       "      <td>0</td>\n",
       "      <td>77.12</td>\n",
       "      <td>3.26</td>\n",
       "      <td>221.92</td>\n",
       "      <td>6.91</td>\n",
       "      <td>7</td>\n",
       "      <td>2012</td>\n",
       "    </tr>\n",
       "    <tr>\n",
       "      <th>128</th>\n",
       "      <td>1</td>\n",
       "      <td>2012-07-20</td>\n",
       "      <td>1497954.76</td>\n",
       "      <td>0</td>\n",
       "      <td>80.42</td>\n",
       "      <td>3.31</td>\n",
       "      <td>221.93</td>\n",
       "      <td>6.91</td>\n",
       "      <td>7</td>\n",
       "      <td>2012</td>\n",
       "    </tr>\n",
       "    <tr>\n",
       "      <th>129</th>\n",
       "      <td>1</td>\n",
       "      <td>2012-07-27</td>\n",
       "      <td>1439123.71</td>\n",
       "      <td>0</td>\n",
       "      <td>82.66</td>\n",
       "      <td>3.41</td>\n",
       "      <td>221.94</td>\n",
       "      <td>6.91</td>\n",
       "      <td>7</td>\n",
       "      <td>2012</td>\n",
       "    </tr>\n",
       "    <tr>\n",
       "      <th>130</th>\n",
       "      <td>1</td>\n",
       "      <td>2012-08-03</td>\n",
       "      <td>1631135.79</td>\n",
       "      <td>0</td>\n",
       "      <td>86.11</td>\n",
       "      <td>3.42</td>\n",
       "      <td>221.95</td>\n",
       "      <td>6.91</td>\n",
       "      <td>8</td>\n",
       "      <td>2012</td>\n",
       "    </tr>\n",
       "  </tbody>\n",
       "</table>\n",
       "</div>"
      ],
      "text/plain": [
       "     Store       Date  Weekly_Sales  Holiday_Flag  Temperature  Fuel_Price  \\\n",
       "126      1 2012-07-06    1769854.16             0        81.57        3.23   \n",
       "127      1 2012-07-13    1527014.04             0        77.12        3.26   \n",
       "128      1 2012-07-20    1497954.76             0        80.42        3.31   \n",
       "129      1 2012-07-27    1439123.71             0        82.66        3.41   \n",
       "130      1 2012-08-03    1631135.79             0        86.11        3.42   \n",
       "\n",
       "       CPI  Unemployment  Month  Year  \n",
       "126 221.88          6.91      7  2012  \n",
       "127 221.92          6.91      7  2012  \n",
       "128 221.93          6.91      7  2012  \n",
       "129 221.94          6.91      7  2012  \n",
       "130 221.95          6.91      8  2012  "
      ]
     },
     "execution_count": 26,
     "metadata": {},
     "output_type": "execute_result"
    }
   ],
   "source": [
    "Q3_2012.head()"
   ]
  },
  {
   "cell_type": "code",
   "execution_count": 27,
   "id": "face94cd",
   "metadata": {},
   "outputs": [
    {
     "data": {
      "text/plain": [
       "(585, 10)"
      ]
     },
     "execution_count": 27,
     "metadata": {},
     "output_type": "execute_result"
    }
   ],
   "source": [
    "Q2_2012.shape"
   ]
  },
  {
   "cell_type": "code",
   "execution_count": 28,
   "id": "0aba8920",
   "metadata": {},
   "outputs": [],
   "source": [
    "Q2 = Q2_2012.Weekly_Sales.groupby(Q2_2012.Store).sum()"
   ]
  },
  {
   "cell_type": "code",
   "execution_count": 29,
   "id": "6642979e",
   "metadata": {},
   "outputs": [
    {
     "data": {
      "text/plain": [
       "Store\n",
       "1   20978760.12\n",
       "2   25083604.88\n",
       "3    5620316.49\n",
       "4   28454363.67\n",
       "5    4466363.69\n",
       "Name: Weekly_Sales, dtype: float64"
      ]
     },
     "execution_count": 29,
     "metadata": {},
     "output_type": "execute_result"
    }
   ],
   "source": [
    "Q2.head()"
   ]
  },
  {
   "cell_type": "code",
   "execution_count": 30,
   "id": "25f5a22f",
   "metadata": {},
   "outputs": [
    {
     "data": {
      "text/plain": [
       "Store\n",
       "1   20253947.78\n",
       "2   24303354.86\n",
       "3    5298005.47\n",
       "4   27796792.46\n",
       "5    4163790.99\n",
       "Name: Weekly_Sales, dtype: float64"
      ]
     },
     "execution_count": 30,
     "metadata": {},
     "output_type": "execute_result"
    }
   ],
   "source": [
    "Q3 = Q3_2012.Weekly_Sales.groupby(Q3_2012.Store).sum()\n",
    "Q3.head()"
   ]
  },
  {
   "cell_type": "code",
   "execution_count": 31,
   "id": "e7b2c48c",
   "metadata": {},
   "outputs": [],
   "source": [
    "growth_rate = (Q3-Q2)/Q2"
   ]
  },
  {
   "cell_type": "code",
   "execution_count": 32,
   "id": "3dca565f",
   "metadata": {},
   "outputs": [
    {
     "data": {
      "text/plain": [
       "<AxesSubplot:xlabel='Store'>"
      ]
     },
     "execution_count": 32,
     "metadata": {},
     "output_type": "execute_result"
    },
    {
     "data": {
      "image/png": "[encoded data removed]",
      "text/plain": [
       "<Figure size 720x504 with 1 Axes>"
      ]
     },
     "metadata": {
      "needs_background": "light"
     },
     "output_type": "display_data"
    }
   ],
   "source": [
    "plt.figure(figsize=(10,7))\n",
    "growth_rate.sort_values(ascending=False).plot(kind='bar')"
   ]
  },
  {
   "cell_type": "code",
   "execution_count": 33,
   "id": "0273d4c4",
   "metadata": {},
   "outputs": [],
   "source": [
    "# Store number 7 has better growth rate than the other stores"
   ]
  },
  {
   "cell_type": "code",
   "execution_count": 34,
   "id": "2e911fdf",
   "metadata": {},
   "outputs": [],
   "source": [
    "#Some holidays have a negative impact on sales. Find out holidays which \n",
    "#have higher sales than the mean sales in non-holiday season for all stores together"
   ]
  },
  {
   "cell_type": "code",
   "execution_count": 35,
   "id": "cf2819f1",
   "metadata": {},
   "outputs": [],
   "source": [
    "# mean sales in non-holiday season for all stores together"
   ]
  },
  {
   "cell_type": "code",
   "execution_count": 36,
   "id": "74e8326d",
   "metadata": {},
   "outputs": [
    {
     "data": {
      "text/plain": [
       "1041256.38"
      ]
     },
     "execution_count": 36,
     "metadata": {},
     "output_type": "execute_result"
    }
   ],
   "source": [
    "non_holiday_mean = walmart[walmart.Holiday_Flag==0].Weekly_Sales.mean()\n",
    "round(non_holiday_mean,2)"
   ]
  },
  {
   "cell_type": "code",
   "execution_count": 37,
   "id": "36ae4746",
   "metadata": {},
   "outputs": [],
   "source": [
    "# Holidays which have higher sales than the non holiday mean"
   ]
  },
  {
   "cell_type": "code",
   "execution_count": 38,
   "id": "4b580940",
   "metadata": {},
   "outputs": [],
   "source": [
    "holidays_higher_sales = walmart[(walmart.Holiday_Flag==1) & (walmart.Weekly_Sales> non_holiday_mean)]"
   ]
  },
  {
   "cell_type": "code",
   "execution_count": 39,
   "id": "36548037",
   "metadata": {},
   "outputs": [
    {
     "data": {
      "text/html": [
       "<div>\n",
       "<style scoped>\n",
       "    .dataframe tbody tr th:only-of-type {\n",
       "        vertical-align: middle;\n",
       "    }\n",
       "\n",
       "    .dataframe tbody tr th {\n",
       "        vertical-align: top;\n",
       "    }\n",
       "\n",
       "    .dataframe thead th {\n",
       "        text-align: right;\n",
       "    }\n",
       "</style>\n",
       "<table border=\"1\" class=\"dataframe\">\n",
       "  <thead>\n",
       "    <tr style=\"text-align: right;\">\n",
       "      <th></th>\n",
       "      <th>Store</th>\n",
       "      <th>Date</th>\n",
       "      <th>Weekly_Sales</th>\n",
       "      <th>Holiday_Flag</th>\n",
       "      <th>Temperature</th>\n",
       "      <th>Fuel_Price</th>\n",
       "      <th>CPI</th>\n",
       "      <th>Unemployment</th>\n",
       "      <th>Month</th>\n",
       "      <th>Year</th>\n",
       "    </tr>\n",
       "  </thead>\n",
       "  <tbody>\n",
       "    <tr>\n",
       "      <th>1</th>\n",
       "      <td>1</td>\n",
       "      <td>2010-02-12</td>\n",
       "      <td>1641957.44</td>\n",
       "      <td>1</td>\n",
       "      <td>38.51</td>\n",
       "      <td>2.55</td>\n",
       "      <td>211.24</td>\n",
       "      <td>8.11</td>\n",
       "      <td>2</td>\n",
       "      <td>2010</td>\n",
       "    </tr>\n",
       "    <tr>\n",
       "      <th>31</th>\n",
       "      <td>1</td>\n",
       "      <td>2010-09-10</td>\n",
       "      <td>1507460.69</td>\n",
       "      <td>1</td>\n",
       "      <td>78.69</td>\n",
       "      <td>2.56</td>\n",
       "      <td>211.50</td>\n",
       "      <td>7.79</td>\n",
       "      <td>9</td>\n",
       "      <td>2010</td>\n",
       "    </tr>\n",
       "    <tr>\n",
       "      <th>42</th>\n",
       "      <td>1</td>\n",
       "      <td>2010-11-26</td>\n",
       "      <td>1955624.11</td>\n",
       "      <td>1</td>\n",
       "      <td>64.52</td>\n",
       "      <td>2.73</td>\n",
       "      <td>211.75</td>\n",
       "      <td>7.84</td>\n",
       "      <td>11</td>\n",
       "      <td>2010</td>\n",
       "    </tr>\n",
       "    <tr>\n",
       "      <th>47</th>\n",
       "      <td>1</td>\n",
       "      <td>2010-12-31</td>\n",
       "      <td>1367320.01</td>\n",
       "      <td>1</td>\n",
       "      <td>48.43</td>\n",
       "      <td>2.94</td>\n",
       "      <td>211.40</td>\n",
       "      <td>7.84</td>\n",
       "      <td>12</td>\n",
       "      <td>2010</td>\n",
       "    </tr>\n",
       "    <tr>\n",
       "      <th>53</th>\n",
       "      <td>1</td>\n",
       "      <td>2011-02-11</td>\n",
       "      <td>1649614.93</td>\n",
       "      <td>1</td>\n",
       "      <td>36.39</td>\n",
       "      <td>3.02</td>\n",
       "      <td>212.94</td>\n",
       "      <td>7.74</td>\n",
       "      <td>2</td>\n",
       "      <td>2011</td>\n",
       "    </tr>\n",
       "  </tbody>\n",
       "</table>\n",
       "</div>"
      ],
      "text/plain": [
       "    Store       Date  Weekly_Sales  Holiday_Flag  Temperature  Fuel_Price  \\\n",
       "1       1 2010-02-12    1641957.44             1        38.51        2.55   \n",
       "31      1 2010-09-10    1507460.69             1        78.69        2.56   \n",
       "42      1 2010-11-26    1955624.11             1        64.52        2.73   \n",
       "47      1 2010-12-31    1367320.01             1        48.43        2.94   \n",
       "53      1 2011-02-11    1649614.93             1        36.39        3.02   \n",
       "\n",
       "      CPI  Unemployment  Month  Year  \n",
       "1  211.24          8.11      2  2010  \n",
       "31 211.50          7.79      9  2010  \n",
       "42 211.75          7.84     11  2010  \n",
       "47 211.40          7.84     12  2010  \n",
       "53 212.94          7.74      2  2011  "
      ]
     },
     "execution_count": 39,
     "metadata": {},
     "output_type": "execute_result"
    }
   ],
   "source": [
    "holidays_higher_sales.head()"
   ]
  },
  {
   "cell_type": "code",
   "execution_count": 40,
   "id": "261ae326",
   "metadata": {},
   "outputs": [],
   "source": [
    "# we can plot a graph to know which holiday has greater sales overall"
   ]
  },
  {
   "cell_type": "code",
   "execution_count": 41,
   "id": "12c5d169",
   "metadata": {},
   "outputs": [
    {
     "data": {
      "image/png": "[encoded data removed]",
      "text/plain": [
       "<Figure size 432x288 with 1 Axes>"
      ]
     },
     "metadata": {
      "needs_background": "light"
     },
     "output_type": "display_data"
    }
   ],
   "source": [
    "x=[0,1,2,3]\n",
    "labels=['Super Bowl','Labour Day','Thanksgiving','Christmas']\n",
    "holidays_higher_sales.Weekly_Sales.groupby(holidays_higher_sales.Month).sum().plot(kind='bar')\n",
    "plt.xticks(x,labels)\n",
    "plt.ticklabel_format(style='plain',axis='y')"
   ]
  },
  {
   "cell_type": "code",
   "execution_count": 42,
   "id": "da43de41",
   "metadata": {},
   "outputs": [],
   "source": [
    "# In the holidays where the sales are higher than the non holiday mean, Thanksgiving has the most sales"
   ]
  },
  {
   "cell_type": "code",
   "execution_count": 43,
   "id": "3ae4dd9d",
   "metadata": {},
   "outputs": [],
   "source": [
    "#Provide a monthly and semester view of sales in units and give insight"
   ]
  },
  {
   "cell_type": "code",
   "execution_count": 44,
   "id": "c6629ab8",
   "metadata": {},
   "outputs": [
    {
     "data": {
      "image/png": "[encoded data removed]",
      "text/plain": [
       "<Figure size 720x504 with 1 Axes>"
      ]
     },
     "metadata": {
      "needs_background": "light"
     },
     "output_type": "display_data"
    }
   ],
   "source": [
    "# Monthly view\n",
    "plt.figure(figsize=(10,7))\n",
    "walmart.groupby(['Year','Month'])['Weekly_Sales'].sum().plot(kind='bar')\n",
    "plt.ticklabel_format(style='plain',axis='y')"
   ]
  },
  {
   "cell_type": "code",
   "execution_count": 45,
   "id": "520c9c09",
   "metadata": {},
   "outputs": [],
   "source": [
    "# Semester view of sales"
   ]
  },
  {
   "cell_type": "code",
   "execution_count": 46,
   "id": "2f958c1a",
   "metadata": {},
   "outputs": [],
   "source": [
    "# We need to categorize the data semester wise\n",
    "walmart['Semester'] = ['sem1' if a < 7 else 'sem2' for a in walmart.Month ]"
   ]
  },
  {
   "cell_type": "code",
   "execution_count": 47,
   "id": "bd259800",
   "metadata": {},
   "outputs": [
    {
     "data": {
      "text/html": [
       "<div>\n",
       "<style scoped>\n",
       "    .dataframe tbody tr th:only-of-type {\n",
       "        vertical-align: middle;\n",
       "    }\n",
       "\n",
       "    .dataframe tbody tr th {\n",
       "        vertical-align: top;\n",
       "    }\n",
       "\n",
       "    .dataframe thead th {\n",
       "        text-align: right;\n",
       "    }\n",
       "</style>\n",
       "<table border=\"1\" class=\"dataframe\">\n",
       "  <thead>\n",
       "    <tr style=\"text-align: right;\">\n",
       "      <th></th>\n",
       "      <th>Store</th>\n",
       "      <th>Date</th>\n",
       "      <th>Weekly_Sales</th>\n",
       "      <th>Holiday_Flag</th>\n",
       "      <th>Temperature</th>\n",
       "      <th>Fuel_Price</th>\n",
       "      <th>CPI</th>\n",
       "      <th>Unemployment</th>\n",
       "      <th>Month</th>\n",
       "      <th>Year</th>\n",
       "      <th>Semester</th>\n",
       "    </tr>\n",
       "  </thead>\n",
       "  <tbody>\n",
       "    <tr>\n",
       "      <th>0</th>\n",
       "      <td>1</td>\n",
       "      <td>2010-02-05</td>\n",
       "      <td>1643690.90</td>\n",
       "      <td>0</td>\n",
       "      <td>42.31</td>\n",
       "      <td>2.57</td>\n",
       "      <td>211.10</td>\n",
       "      <td>8.11</td>\n",
       "      <td>2</td>\n",
       "      <td>2010</td>\n",
       "      <td>sem1</td>\n",
       "    </tr>\n",
       "    <tr>\n",
       "      <th>1</th>\n",
       "      <td>1</td>\n",
       "      <td>2010-02-12</td>\n",
       "      <td>1641957.44</td>\n",
       "      <td>1</td>\n",
       "      <td>38.51</td>\n",
       "      <td>2.55</td>\n",
       "      <td>211.24</td>\n",
       "      <td>8.11</td>\n",
       "      <td>2</td>\n",
       "      <td>2010</td>\n",
       "      <td>sem1</td>\n",
       "    </tr>\n",
       "    <tr>\n",
       "      <th>2</th>\n",
       "      <td>1</td>\n",
       "      <td>2010-02-19</td>\n",
       "      <td>1611968.17</td>\n",
       "      <td>0</td>\n",
       "      <td>39.93</td>\n",
       "      <td>2.51</td>\n",
       "      <td>211.29</td>\n",
       "      <td>8.11</td>\n",
       "      <td>2</td>\n",
       "      <td>2010</td>\n",
       "      <td>sem1</td>\n",
       "    </tr>\n",
       "    <tr>\n",
       "      <th>3</th>\n",
       "      <td>1</td>\n",
       "      <td>2010-02-26</td>\n",
       "      <td>1409727.59</td>\n",
       "      <td>0</td>\n",
       "      <td>46.63</td>\n",
       "      <td>2.56</td>\n",
       "      <td>211.32</td>\n",
       "      <td>8.11</td>\n",
       "      <td>2</td>\n",
       "      <td>2010</td>\n",
       "      <td>sem1</td>\n",
       "    </tr>\n",
       "    <tr>\n",
       "      <th>4</th>\n",
       "      <td>1</td>\n",
       "      <td>2010-03-05</td>\n",
       "      <td>1554806.68</td>\n",
       "      <td>0</td>\n",
       "      <td>46.50</td>\n",
       "      <td>2.62</td>\n",
       "      <td>211.35</td>\n",
       "      <td>8.11</td>\n",
       "      <td>3</td>\n",
       "      <td>2010</td>\n",
       "      <td>sem1</td>\n",
       "    </tr>\n",
       "  </tbody>\n",
       "</table>\n",
       "</div>"
      ],
      "text/plain": [
       "   Store       Date  Weekly_Sales  Holiday_Flag  Temperature  Fuel_Price  \\\n",
       "0      1 2010-02-05    1643690.90             0        42.31        2.57   \n",
       "1      1 2010-02-12    1641957.44             1        38.51        2.55   \n",
       "2      1 2010-02-19    1611968.17             0        39.93        2.51   \n",
       "3      1 2010-02-26    1409727.59             0        46.63        2.56   \n",
       "4      1 2010-03-05    1554806.68             0        46.50        2.62   \n",
       "\n",
       "     CPI  Unemployment  Month  Year Semester  \n",
       "0 211.10          8.11      2  2010     sem1  \n",
       "1 211.24          8.11      2  2010     sem1  \n",
       "2 211.29          8.11      2  2010     sem1  \n",
       "3 211.32          8.11      2  2010     sem1  \n",
       "4 211.35          8.11      3  2010     sem1  "
      ]
     },
     "execution_count": 47,
     "metadata": {},
     "output_type": "execute_result"
    }
   ],
   "source": [
    "walmart.head()"
   ]
  },
  {
   "cell_type": "code",
   "execution_count": 48,
   "id": "cea9e141",
   "metadata": {},
   "outputs": [
    {
     "data": {
      "image/png": "[encoded data removed]",
      "text/plain": [
       "<Figure size 720x504 with 1 Axes>"
      ]
     },
     "metadata": {
      "needs_background": "light"
     },
     "output_type": "display_data"
    }
   ],
   "source": [
    "plt.figure(figsize=(10,7))\n",
    "walmart.groupby(['Year','Semester'])['Weekly_Sales'].sum().plot(kind='bar')\n",
    "plt.ticklabel_format(style='plain',axis='y')"
   ]
  },
  {
   "cell_type": "code",
   "execution_count": 49,
   "id": "3f6f0c5c",
   "metadata": {},
   "outputs": [],
   "source": [
    "# For Store 1 – Build  prediction models to forecast demand"
   ]
  },
  {
   "cell_type": "code",
   "execution_count": 50,
   "id": "51c354ac",
   "metadata": {},
   "outputs": [],
   "source": [
    "# Linear Regression – Utilize variables like date and restructure dates as 1 for 5 Feb 2010 \n",
    "#(starting from the earliest date in order). Hypothesize if CPI, unemployment, and fuel price have any impact on sales."
   ]
  },
  {
   "cell_type": "code",
   "execution_count": 51,
   "id": "799ef474",
   "metadata": {},
   "outputs": [],
   "source": [
    "store1 = walmart[walmart.Store==1]"
   ]
  },
  {
   "cell_type": "code",
   "execution_count": 52,
   "id": "cd913110",
   "metadata": {},
   "outputs": [
    {
     "data": {
      "text/html": [
       "<div>\n",
       "<style scoped>\n",
       "    .dataframe tbody tr th:only-of-type {\n",
       "        vertical-align: middle;\n",
       "    }\n",
       "\n",
       "    .dataframe tbody tr th {\n",
       "        vertical-align: top;\n",
       "    }\n",
       "\n",
       "    .dataframe thead th {\n",
       "        text-align: right;\n",
       "    }\n",
       "</style>\n",
       "<table border=\"1\" class=\"dataframe\">\n",
       "  <thead>\n",
       "    <tr style=\"text-align: right;\">\n",
       "      <th></th>\n",
       "      <th>Store</th>\n",
       "      <th>Date</th>\n",
       "      <th>Weekly_Sales</th>\n",
       "      <th>Holiday_Flag</th>\n",
       "      <th>Temperature</th>\n",
       "      <th>Fuel_Price</th>\n",
       "      <th>CPI</th>\n",
       "      <th>Unemployment</th>\n",
       "      <th>Month</th>\n",
       "      <th>Year</th>\n",
       "      <th>Semester</th>\n",
       "    </tr>\n",
       "  </thead>\n",
       "  <tbody>\n",
       "    <tr>\n",
       "      <th>0</th>\n",
       "      <td>1</td>\n",
       "      <td>2010-02-05</td>\n",
       "      <td>1643690.90</td>\n",
       "      <td>0</td>\n",
       "      <td>42.31</td>\n",
       "      <td>2.57</td>\n",
       "      <td>211.10</td>\n",
       "      <td>8.11</td>\n",
       "      <td>2</td>\n",
       "      <td>2010</td>\n",
       "      <td>sem1</td>\n",
       "    </tr>\n",
       "    <tr>\n",
       "      <th>1</th>\n",
       "      <td>1</td>\n",
       "      <td>2010-02-12</td>\n",
       "      <td>1641957.44</td>\n",
       "      <td>1</td>\n",
       "      <td>38.51</td>\n",
       "      <td>2.55</td>\n",
       "      <td>211.24</td>\n",
       "      <td>8.11</td>\n",
       "      <td>2</td>\n",
       "      <td>2010</td>\n",
       "      <td>sem1</td>\n",
       "    </tr>\n",
       "    <tr>\n",
       "      <th>2</th>\n",
       "      <td>1</td>\n",
       "      <td>2010-02-19</td>\n",
       "      <td>1611968.17</td>\n",
       "      <td>0</td>\n",
       "      <td>39.93</td>\n",
       "      <td>2.51</td>\n",
       "      <td>211.29</td>\n",
       "      <td>8.11</td>\n",
       "      <td>2</td>\n",
       "      <td>2010</td>\n",
       "      <td>sem1</td>\n",
       "    </tr>\n",
       "    <tr>\n",
       "      <th>3</th>\n",
       "      <td>1</td>\n",
       "      <td>2010-02-26</td>\n",
       "      <td>1409727.59</td>\n",
       "      <td>0</td>\n",
       "      <td>46.63</td>\n",
       "      <td>2.56</td>\n",
       "      <td>211.32</td>\n",
       "      <td>8.11</td>\n",
       "      <td>2</td>\n",
       "      <td>2010</td>\n",
       "      <td>sem1</td>\n",
       "    </tr>\n",
       "    <tr>\n",
       "      <th>4</th>\n",
       "      <td>1</td>\n",
       "      <td>2010-03-05</td>\n",
       "      <td>1554806.68</td>\n",
       "      <td>0</td>\n",
       "      <td>46.50</td>\n",
       "      <td>2.62</td>\n",
       "      <td>211.35</td>\n",
       "      <td>8.11</td>\n",
       "      <td>3</td>\n",
       "      <td>2010</td>\n",
       "      <td>sem1</td>\n",
       "    </tr>\n",
       "  </tbody>\n",
       "</table>\n",
       "</div>"
      ],
      "text/plain": [
       "   Store       Date  Weekly_Sales  Holiday_Flag  Temperature  Fuel_Price  \\\n",
       "0      1 2010-02-05    1643690.90             0        42.31        2.57   \n",
       "1      1 2010-02-12    1641957.44             1        38.51        2.55   \n",
       "2      1 2010-02-19    1611968.17             0        39.93        2.51   \n",
       "3      1 2010-02-26    1409727.59             0        46.63        2.56   \n",
       "4      1 2010-03-05    1554806.68             0        46.50        2.62   \n",
       "\n",
       "     CPI  Unemployment  Month  Year Semester  \n",
       "0 211.10          8.11      2  2010     sem1  \n",
       "1 211.24          8.11      2  2010     sem1  \n",
       "2 211.29          8.11      2  2010     sem1  \n",
       "3 211.32          8.11      2  2010     sem1  \n",
       "4 211.35          8.11      3  2010     sem1  "
      ]
     },
     "execution_count": 52,
     "metadata": {},
     "output_type": "execute_result"
    }
   ],
   "source": [
    "store1.head()"
   ]
  },
  {
   "cell_type": "code",
   "execution_count": 53,
   "id": "9a8c53ea",
   "metadata": {},
   "outputs": [],
   "source": [
    "# to restructure the dates as 1,2.... we can use the label encoder\n",
    "objectcols = store1.Date"
   ]
  },
  {
   "cell_type": "code",
   "execution_count": 54,
   "id": "08e4c177",
   "metadata": {},
   "outputs": [],
   "source": [
    "from sklearn.preprocessing import LabelEncoder"
   ]
  },
  {
   "cell_type": "code",
   "execution_count": 55,
   "id": "fc90213f",
   "metadata": {},
   "outputs": [],
   "source": [
    "le=LabelEncoder()"
   ]
  },
  {
   "cell_type": "code",
   "execution_count": 56,
   "id": "7369ccb4",
   "metadata": {},
   "outputs": [],
   "source": [
    "objectcols_labeled = le.fit_transform(objectcols)"
   ]
  },
  {
   "cell_type": "code",
   "execution_count": 57,
   "id": "11ad9a90",
   "metadata": {},
   "outputs": [
    {
     "data": {
      "text/html": [
       "<div>\n",
       "<style scoped>\n",
       "    .dataframe tbody tr th:only-of-type {\n",
       "        vertical-align: middle;\n",
       "    }\n",
       "\n",
       "    .dataframe tbody tr th {\n",
       "        vertical-align: top;\n",
       "    }\n",
       "\n",
       "    .dataframe thead th {\n",
       "        text-align: right;\n",
       "    }\n",
       "</style>\n",
       "<table border=\"1\" class=\"dataframe\">\n",
       "  <thead>\n",
       "    <tr style=\"text-align: right;\">\n",
       "      <th></th>\n",
       "      <th>Date</th>\n",
       "    </tr>\n",
       "  </thead>\n",
       "  <tbody>\n",
       "    <tr>\n",
       "      <th>0</th>\n",
       "      <td>0</td>\n",
       "    </tr>\n",
       "    <tr>\n",
       "      <th>1</th>\n",
       "      <td>1</td>\n",
       "    </tr>\n",
       "    <tr>\n",
       "      <th>2</th>\n",
       "      <td>2</td>\n",
       "    </tr>\n",
       "    <tr>\n",
       "      <th>3</th>\n",
       "      <td>3</td>\n",
       "    </tr>\n",
       "    <tr>\n",
       "      <th>4</th>\n",
       "      <td>4</td>\n",
       "    </tr>\n",
       "  </tbody>\n",
       "</table>\n",
       "</div>"
      ],
      "text/plain": [
       "   Date\n",
       "0     0\n",
       "1     1\n",
       "2     2\n",
       "3     3\n",
       "4     4"
      ]
     },
     "execution_count": 57,
     "metadata": {},
     "output_type": "execute_result"
    }
   ],
   "source": [
    "# convert it in datframe format\n",
    "objectcols_labeled = pd.DataFrame(objectcols_labeled,columns=['Date'])\n",
    "objectcols_labeled.head()"
   ]
  },
  {
   "cell_type": "code",
   "execution_count": 58,
   "id": "302ac289",
   "metadata": {},
   "outputs": [],
   "source": [
    "# Check for outliers"
   ]
  },
  {
   "cell_type": "code",
   "execution_count": 59,
   "id": "41981739",
   "metadata": {},
   "outputs": [
    {
     "data": {
      "text/plain": [
       "<AxesSubplot:>"
      ]
     },
     "execution_count": 59,
     "metadata": {},
     "output_type": "execute_result"
    },
    {
     "data": {
      "image/png": "[encoded data removed]",
      "text/plain": [
       "<Figure size 432x288 with 1 Axes>"
      ]
     },
     "metadata": {
      "needs_background": "light"
     },
     "output_type": "display_data"
    }
   ],
   "source": [
    "store1.Temperature.plot(kind='box',vert=False)"
   ]
  },
  {
   "cell_type": "code",
   "execution_count": 60,
   "id": "83410507",
   "metadata": {},
   "outputs": [
    {
     "data": {
      "text/plain": [
       "<AxesSubplot:>"
      ]
     },
     "execution_count": 60,
     "metadata": {},
     "output_type": "execute_result"
    },
    {
     "data": {
      "image/png": "[encoded data removed]",
      "text/plain": [
       "<Figure size 432x288 with 1 Axes>"
      ]
     },
     "metadata": {
      "needs_background": "light"
     },
     "output_type": "display_data"
    }
   ],
   "source": [
    "store1.CPI.plot(kind='box',vert=False)"
   ]
  },
  {
   "cell_type": "code",
   "execution_count": 61,
   "id": "342384df",
   "metadata": {},
   "outputs": [
    {
     "data": {
      "text/plain": [
       "<AxesSubplot:>"
      ]
     },
     "execution_count": 61,
     "metadata": {},
     "output_type": "execute_result"
    },
    {
     "data": {
      "image/png": "[encoded data removed]",
      "text/plain": [
       "<Figure size 432x288 with 1 Axes>"
      ]
     },
     "metadata": {
      "needs_background": "light"
     },
     "output_type": "display_data"
    }
   ],
   "source": [
    "store1.Unemployment.plot(kind='box',vert=False)"
   ]
  },
  {
   "cell_type": "code",
   "execution_count": 62,
   "id": "a64e222e",
   "metadata": {},
   "outputs": [
    {
     "data": {
      "text/plain": [
       "<AxesSubplot:>"
      ]
     },
     "execution_count": 62,
     "metadata": {},
     "output_type": "execute_result"
    },
    {
     "data": {
      "image/png": "[encoded data removed]",
      "text/plain": [
       "<Figure size 432x288 with 1 Axes>"
      ]
     },
     "metadata": {
      "needs_background": "light"
     },
     "output_type": "display_data"
    }
   ],
   "source": [
    "store1.Fuel_Price.plot(kind='box',vert=False)"
   ]
  },
  {
   "cell_type": "code",
   "execution_count": 66,
   "id": "d609ccfb",
   "metadata": {},
   "outputs": [],
   "source": [
    "numericcols = store1[['Weekly_Sales','Temperature','Fuel_Price','CPI','Unemployment']]"
   ]
  },
  {
   "cell_type": "code",
   "execution_count": 67,
   "id": "f9622ddc",
   "metadata": {},
   "outputs": [],
   "source": [
    "#check for multicollinearity"
   ]
  },
  {
   "cell_type": "code",
   "execution_count": 68,
   "id": "10cf0205",
   "metadata": {},
   "outputs": [
    {
     "data": {
      "text/html": [
       "<div>\n",
       "<style scoped>\n",
       "    .dataframe tbody tr th:only-of-type {\n",
       "        vertical-align: middle;\n",
       "    }\n",
       "\n",
       "    .dataframe tbody tr th {\n",
       "        vertical-align: top;\n",
       "    }\n",
       "\n",
       "    .dataframe thead th {\n",
       "        text-align: right;\n",
       "    }\n",
       "</style>\n",
       "<table border=\"1\" class=\"dataframe\">\n",
       "  <thead>\n",
       "    <tr style=\"text-align: right;\">\n",
       "      <th></th>\n",
       "      <th>Weekly_Sales</th>\n",
       "      <th>Temperature</th>\n",
       "      <th>Fuel_Price</th>\n",
       "      <th>CPI</th>\n",
       "      <th>Unemployment</th>\n",
       "    </tr>\n",
       "  </thead>\n",
       "  <tbody>\n",
       "    <tr>\n",
       "      <th>Weekly_Sales</th>\n",
       "      <td>1.00</td>\n",
       "      <td>-0.22</td>\n",
       "      <td>0.12</td>\n",
       "      <td>0.23</td>\n",
       "      <td>-0.10</td>\n",
       "    </tr>\n",
       "    <tr>\n",
       "      <th>Temperature</th>\n",
       "      <td>-0.22</td>\n",
       "      <td>1.00</td>\n",
       "      <td>0.23</td>\n",
       "      <td>0.12</td>\n",
       "      <td>-0.18</td>\n",
       "    </tr>\n",
       "    <tr>\n",
       "      <th>Fuel_Price</th>\n",
       "      <td>0.12</td>\n",
       "      <td>0.23</td>\n",
       "      <td>1.00</td>\n",
       "      <td>0.76</td>\n",
       "      <td>-0.51</td>\n",
       "    </tr>\n",
       "    <tr>\n",
       "      <th>CPI</th>\n",
       "      <td>0.23</td>\n",
       "      <td>0.12</td>\n",
       "      <td>0.76</td>\n",
       "      <td>1.00</td>\n",
       "      <td>-0.81</td>\n",
       "    </tr>\n",
       "    <tr>\n",
       "      <th>Unemployment</th>\n",
       "      <td>-0.10</td>\n",
       "      <td>-0.18</td>\n",
       "      <td>-0.51</td>\n",
       "      <td>-0.81</td>\n",
       "      <td>1.00</td>\n",
       "    </tr>\n",
       "  </tbody>\n",
       "</table>\n",
       "</div>"
      ],
      "text/plain": [
       "              Weekly_Sales  Temperature  Fuel_Price   CPI  Unemployment\n",
       "Weekly_Sales          1.00        -0.22        0.12  0.23         -0.10\n",
       "Temperature          -0.22         1.00        0.23  0.12         -0.18\n",
       "Fuel_Price            0.12         0.23        1.00  0.76         -0.51\n",
       "CPI                   0.23         0.12        0.76  1.00         -0.81\n",
       "Unemployment         -0.10        -0.18       -0.51 -0.81          1.00"
      ]
     },
     "execution_count": 68,
     "metadata": {},
     "output_type": "execute_result"
    }
   ],
   "source": [
    "numericcols.corr()"
   ]
  },
  {
   "cell_type": "code",
   "execution_count": 69,
   "id": "94920d7b",
   "metadata": {},
   "outputs": [],
   "source": [
    "# No multicollinearity found"
   ]
  },
  {
   "cell_type": "code",
   "execution_count": 70,
   "id": "2e951cbb",
   "metadata": {},
   "outputs": [],
   "source": [
    "store1_clean = pd.concat([numericcols,objectcols_labeled],axis=1)"
   ]
  },
  {
   "cell_type": "code",
   "execution_count": 71,
   "id": "3244e124",
   "metadata": {},
   "outputs": [
    {
     "data": {
      "text/html": [
       "<div>\n",
       "<style scoped>\n",
       "    .dataframe tbody tr th:only-of-type {\n",
       "        vertical-align: middle;\n",
       "    }\n",
       "\n",
       "    .dataframe tbody tr th {\n",
       "        vertical-align: top;\n",
       "    }\n",
       "\n",
       "    .dataframe thead th {\n",
       "        text-align: right;\n",
       "    }\n",
       "</style>\n",
       "<table border=\"1\" class=\"dataframe\">\n",
       "  <thead>\n",
       "    <tr style=\"text-align: right;\">\n",
       "      <th></th>\n",
       "      <th>Weekly_Sales</th>\n",
       "      <th>Temperature</th>\n",
       "      <th>Fuel_Price</th>\n",
       "      <th>CPI</th>\n",
       "      <th>Unemployment</th>\n",
       "      <th>Date</th>\n",
       "    </tr>\n",
       "  </thead>\n",
       "  <tbody>\n",
       "    <tr>\n",
       "      <th>0</th>\n",
       "      <td>1643690.90</td>\n",
       "      <td>42.31</td>\n",
       "      <td>2.57</td>\n",
       "      <td>211.10</td>\n",
       "      <td>8.11</td>\n",
       "      <td>0</td>\n",
       "    </tr>\n",
       "    <tr>\n",
       "      <th>1</th>\n",
       "      <td>1641957.44</td>\n",
       "      <td>38.51</td>\n",
       "      <td>2.55</td>\n",
       "      <td>211.24</td>\n",
       "      <td>8.11</td>\n",
       "      <td>1</td>\n",
       "    </tr>\n",
       "    <tr>\n",
       "      <th>2</th>\n",
       "      <td>1611968.17</td>\n",
       "      <td>39.93</td>\n",
       "      <td>2.51</td>\n",
       "      <td>211.29</td>\n",
       "      <td>8.11</td>\n",
       "      <td>2</td>\n",
       "    </tr>\n",
       "    <tr>\n",
       "      <th>3</th>\n",
       "      <td>1409727.59</td>\n",
       "      <td>46.63</td>\n",
       "      <td>2.56</td>\n",
       "      <td>211.32</td>\n",
       "      <td>8.11</td>\n",
       "      <td>3</td>\n",
       "    </tr>\n",
       "    <tr>\n",
       "      <th>4</th>\n",
       "      <td>1554806.68</td>\n",
       "      <td>46.50</td>\n",
       "      <td>2.62</td>\n",
       "      <td>211.35</td>\n",
       "      <td>8.11</td>\n",
       "      <td>4</td>\n",
       "    </tr>\n",
       "  </tbody>\n",
       "</table>\n",
       "</div>"
      ],
      "text/plain": [
       "   Weekly_Sales  Temperature  Fuel_Price    CPI  Unemployment  Date\n",
       "0    1643690.90        42.31        2.57 211.10          8.11     0\n",
       "1    1641957.44        38.51        2.55 211.24          8.11     1\n",
       "2    1611968.17        39.93        2.51 211.29          8.11     2\n",
       "3    1409727.59        46.63        2.56 211.32          8.11     3\n",
       "4    1554806.68        46.50        2.62 211.35          8.11     4"
      ]
     },
     "execution_count": 71,
     "metadata": {},
     "output_type": "execute_result"
    }
   ],
   "source": [
    "store1_clean.head()"
   ]
  },
  {
   "cell_type": "code",
   "execution_count": 72,
   "id": "3e410117",
   "metadata": {},
   "outputs": [],
   "source": [
    "# Linear regression model"
   ]
  },
  {
   "cell_type": "code",
   "execution_count": 73,
   "id": "7162a774",
   "metadata": {},
   "outputs": [],
   "source": [
    "from sklearn.linear_model import LinearRegression\n",
    "from sklearn.model_selection import train_test_split\n",
    "from sklearn import metrics"
   ]
  },
  {
   "cell_type": "code",
   "execution_count": 74,
   "id": "e3e6d29b",
   "metadata": {},
   "outputs": [],
   "source": [
    "y= store1_clean.Weekly_Sales"
   ]
  },
  {
   "cell_type": "code",
   "execution_count": 75,
   "id": "0a7ec988",
   "metadata": {},
   "outputs": [],
   "source": [
    "X=store1_clean.drop(['Weekly_Sales'],axis=1)"
   ]
  },
  {
   "cell_type": "code",
   "execution_count": 76,
   "id": "ae3f80d1",
   "metadata": {},
   "outputs": [],
   "source": [
    "X_train, X_test, y_train, y_test = train_test_split(X,y,test_size=0.2)"
   ]
  },
  {
   "cell_type": "code",
   "execution_count": 77,
   "id": "f1740e6b",
   "metadata": {},
   "outputs": [],
   "source": [
    "reg=LinearRegression()"
   ]
  },
  {
   "cell_type": "code",
   "execution_count": 78,
   "id": "2aa5a034",
   "metadata": {},
   "outputs": [
    {
     "data": {
      "text/plain": [
       "LinearRegression()"
      ]
     },
     "execution_count": 78,
     "metadata": {},
     "output_type": "execute_result"
    }
   ],
   "source": [
    "reg.fit(X_train,y_train)"
   ]
  },
  {
   "cell_type": "code",
   "execution_count": 80,
   "id": "40f6f674",
   "metadata": {},
   "outputs": [
    {
     "name": "stdout",
     "output_type": "stream",
     "text": [
      "Accuracy: 15.894790944466951\n"
     ]
    }
   ],
   "source": [
    "print('Accuracy:',reg.score(X_train,y_train)*100)\n"
   ]
  },
  {
   "cell_type": "code",
   "execution_count": 81,
   "id": "61053c48",
   "metadata": {},
   "outputs": [],
   "source": [
    "y_pred = reg.predict(X_test)"
   ]
  },
  {
   "cell_type": "code",
   "execution_count": 82,
   "id": "c6b2fc3f",
   "metadata": {},
   "outputs": [
    {
     "name": "stdout",
     "output_type": "stream",
     "text": [
      "Mean absolute error: 119092.06663780463\n",
      "Mean Squared error: 23126063759.88417\n",
      "Root mean sqaured error: 152072.5608381873\n"
     ]
    }
   ],
   "source": [
    "print('Mean absolute error:',metrics.mean_absolute_error(y_test,y_pred))\n",
    "print('Mean Squared error:',metrics.mean_squared_error(y_test,y_pred))\n",
    "print('Root mean sqaured error:',np.sqrt(metrics.mean_squared_error(y_test,y_pred)))"
   ]
  },
  {
   "cell_type": "code",
   "execution_count": 83,
   "id": "677e0ff6",
   "metadata": {},
   "outputs": [],
   "source": [
    "import seaborn as sns"
   ]
  },
  {
   "cell_type": "code",
   "execution_count": 95,
   "id": "b9b52797",
   "metadata": {},
   "outputs": [
    {
     "data": {
      "image/png": "[encoded data removed]",
      "text/plain": [
       "<Figure size 720x504 with 1 Axes>"
      ]
     },
     "metadata": {
      "needs_background": "light"
     },
     "output_type": "display_data"
    }
   ],
   "source": [
    "plt.figure(figsize=(10,7))\n",
    "sns.scatterplot(x=y_pred, y=y_test)\n",
    "plt.ticklabel_format(style='plain')"
   ]
  },
  {
   "cell_type": "code",
   "execution_count": 85,
   "id": "9bdd9a8f",
   "metadata": {},
   "outputs": [],
   "source": [
    "# Randon forest regressor"
   ]
  },
  {
   "cell_type": "code",
   "execution_count": 87,
   "id": "11a8724f",
   "metadata": {},
   "outputs": [],
   "source": [
    "from sklearn.ensemble import RandomForestRegressor"
   ]
  },
  {
   "cell_type": "code",
   "execution_count": 88,
   "id": "e9d8149e",
   "metadata": {},
   "outputs": [],
   "source": [
    "rfr=RandomForestRegressor(n_estimators=1000,max_depth=15,n_jobs=5)"
   ]
  },
  {
   "cell_type": "code",
   "execution_count": 89,
   "id": "f0f7684f",
   "metadata": {},
   "outputs": [
    {
     "data": {
      "text/plain": [
       "RandomForestRegressor(max_depth=15, n_estimators=1000, n_jobs=5)"
      ]
     },
     "execution_count": 89,
     "metadata": {},
     "output_type": "execute_result"
    }
   ],
   "source": [
    "rfr.fit(X_train,y_train)"
   ]
  },
  {
   "cell_type": "code",
   "execution_count": 90,
   "id": "8dd83802",
   "metadata": {},
   "outputs": [
    {
     "name": "stdout",
     "output_type": "stream",
     "text": [
      "Accuracy: 85.60295233743452\n"
     ]
    }
   ],
   "source": [
    "print('Accuracy:',rfr.score(X_train, y_train)*100)"
   ]
  },
  {
   "cell_type": "code",
   "execution_count": 91,
   "id": "78f9c3f9",
   "metadata": {},
   "outputs": [],
   "source": [
    "y_pred1=rfr.predict(X_test)"
   ]
  },
  {
   "cell_type": "code",
   "execution_count": 92,
   "id": "e9a2e6b7",
   "metadata": {},
   "outputs": [
    {
     "name": "stdout",
     "output_type": "stream",
     "text": [
      "Mean Absolute Error: 126318.30746831783\n",
      "Mean Squared Error: 28308072532.222866\n",
      "Root Mean Squared Error: 168250.02981343828\n"
     ]
    }
   ],
   "source": [
    "print('Mean Absolute Error:', metrics.mean_absolute_error(y_test, y_pred1))\n",
    "print('Mean Squared Error:', metrics.mean_squared_error(y_test, y_pred1))\n",
    "print('Root Mean Squared Error:', np.sqrt(metrics.mean_squared_error(y_test, y_pred1)))"
   ]
  },
  {
   "cell_type": "code",
   "execution_count": 94,
   "id": "0ff79a72",
   "metadata": {},
   "outputs": [
    {
     "data": {
      "image/png": "[encoded data removed]",
      "text/plain": [
       "<Figure size 720x504 with 1 Axes>"
      ]
     },
     "metadata": {
      "needs_background": "light"
     },
     "output_type": "display_data"
    }
   ],
   "source": [
    "plt.figure(figsize=(10,7))\n",
    "sns.scatterplot(x=y_pred1, y=y_test)\n",
    "plt.ticklabel_format(style='plain')"
   ]
  },
  {
   "cell_type": "code",
   "execution_count": 96,
   "id": "4a434d50",
   "metadata": {},
   "outputs": [],
   "source": [
    "# Accuracy of random forest regressor is better than linear regression"
   ]
  },
  {
   "cell_type": "code",
   "execution_count": 98,
   "id": "76b5aff9",
   "metadata": {},
   "outputs": [],
   "source": [
    "#Hypothesize if CPI, unemployment, and fuel price have any impact on sales"
   ]
  },
  {
   "cell_type": "code",
   "execution_count": 99,
   "id": "92b28381",
   "metadata": {},
   "outputs": [
    {
     "data": {
      "text/plain": [
       "<AxesSubplot:xlabel='CPI', ylabel='Weekly_Sales'>"
      ]
     },
     "execution_count": 99,
     "metadata": {},
     "output_type": "execute_result"
    },
    {
     "data": {
      "image/png": "[encoded data removed]",
      "text/plain": [
       "<Figure size 432x288 with 1 Axes>"
      ]
     },
     "metadata": {
      "needs_background": "light"
     },
     "output_type": "display_data"
    }
   ],
   "source": [
    "sns.scatterplot(x=store1_clean.CPI,y=store1_clean.Weekly_Sales)"
   ]
  },
  {
   "cell_type": "code",
   "execution_count": 102,
   "id": "8bcc6221",
   "metadata": {},
   "outputs": [],
   "source": [
    "# The above scatterplot shows that there is no impact of CPI on Sales"
   ]
  },
  {
   "cell_type": "code",
   "execution_count": 101,
   "id": "b00b9081",
   "metadata": {},
   "outputs": [
    {
     "data": {
      "text/plain": [
       "<AxesSubplot:xlabel='Unemployment', ylabel='Weekly_Sales'>"
      ]
     },
     "execution_count": 101,
     "metadata": {},
     "output_type": "execute_result"
    },
    {
     "data": {
      "image/png": "[encoded data removed]",
      "text/plain": [
       "<Figure size 432x288 with 1 Axes>"
      ]
     },
     "metadata": {
      "needs_background": "light"
     },
     "output_type": "display_data"
    }
   ],
   "source": [
    "sns.scatterplot(x=store1_clean.Unemployment,y=store1_clean.Weekly_Sales)"
   ]
  },
  {
   "cell_type": "code",
   "execution_count": 103,
   "id": "20b269ca",
   "metadata": {},
   "outputs": [],
   "source": [
    "# The above scatterplot shows that there is no impact of Unemplyment on Sales"
   ]
  },
  {
   "cell_type": "code",
   "execution_count": 106,
   "id": "c8b7c9af",
   "metadata": {},
   "outputs": [
    {
     "data": {
      "text/plain": [
       "<AxesSubplot:xlabel='Fuel_Price', ylabel='Weekly_Sales'>"
      ]
     },
     "execution_count": 106,
     "metadata": {},
     "output_type": "execute_result"
    },
    {
     "data": {
      "image/png": "[encoded data removed]",
      "text/plain": [
       "<Figure size 432x288 with 1 Axes>"
      ]
     },
     "metadata": {
      "needs_background": "light"
     },
     "output_type": "display_data"
    }
   ],
   "source": [
    "sns.scatterplot(x=store1_clean.Fuel_Price,y=store1_clean.Weekly_Sales)"
   ]
  },
  {
   "cell_type": "code",
   "execution_count": 107,
   "id": "529121fb",
   "metadata": {},
   "outputs": [],
   "source": [
    "# The above scatterplot shows that there is no impact of Fuel price on Sales"
   ]
  },
  {
   "cell_type": "code",
   "execution_count": 108,
   "id": "a4725f5a",
   "metadata": {},
   "outputs": [],
   "source": [
    "#Change dates into days by creating new variable."
   ]
  },
  {
   "cell_type": "code",
   "execution_count": 109,
   "id": "394d1b0f",
   "metadata": {},
   "outputs": [],
   "source": [
    "walmart['Day'] = pd.to_datetime(walmart.Date).dt.day_name()"
   ]
  },
  {
   "cell_type": "code",
   "execution_count": 110,
   "id": "bafb3607",
   "metadata": {},
   "outputs": [
    {
     "data": {
      "text/html": [
       "<div>\n",
       "<style scoped>\n",
       "    .dataframe tbody tr th:only-of-type {\n",
       "        vertical-align: middle;\n",
       "    }\n",
       "\n",
       "    .dataframe tbody tr th {\n",
       "        vertical-align: top;\n",
       "    }\n",
       "\n",
       "    .dataframe thead th {\n",
       "        text-align: right;\n",
       "    }\n",
       "</style>\n",
       "<table border=\"1\" class=\"dataframe\">\n",
       "  <thead>\n",
       "    <tr style=\"text-align: right;\">\n",
       "      <th></th>\n",
       "      <th>Store</th>\n",
       "      <th>Date</th>\n",
       "      <th>Weekly_Sales</th>\n",
       "      <th>Holiday_Flag</th>\n",
       "      <th>Temperature</th>\n",
       "      <th>Fuel_Price</th>\n",
       "      <th>CPI</th>\n",
       "      <th>Unemployment</th>\n",
       "      <th>Month</th>\n",
       "      <th>Year</th>\n",
       "      <th>Semester</th>\n",
       "      <th>Day</th>\n",
       "    </tr>\n",
       "  </thead>\n",
       "  <tbody>\n",
       "    <tr>\n",
       "      <th>0</th>\n",
       "      <td>1</td>\n",
       "      <td>2010-02-05</td>\n",
       "      <td>1643690.90</td>\n",
       "      <td>0</td>\n",
       "      <td>42.31</td>\n",
       "      <td>2.57</td>\n",
       "      <td>211.10</td>\n",
       "      <td>8.11</td>\n",
       "      <td>2</td>\n",
       "      <td>2010</td>\n",
       "      <td>sem1</td>\n",
       "      <td>Friday</td>\n",
       "    </tr>\n",
       "    <tr>\n",
       "      <th>1</th>\n",
       "      <td>1</td>\n",
       "      <td>2010-02-12</td>\n",
       "      <td>1641957.44</td>\n",
       "      <td>1</td>\n",
       "      <td>38.51</td>\n",
       "      <td>2.55</td>\n",
       "      <td>211.24</td>\n",
       "      <td>8.11</td>\n",
       "      <td>2</td>\n",
       "      <td>2010</td>\n",
       "      <td>sem1</td>\n",
       "      <td>Friday</td>\n",
       "    </tr>\n",
       "    <tr>\n",
       "      <th>2</th>\n",
       "      <td>1</td>\n",
       "      <td>2010-02-19</td>\n",
       "      <td>1611968.17</td>\n",
       "      <td>0</td>\n",
       "      <td>39.93</td>\n",
       "      <td>2.51</td>\n",
       "      <td>211.29</td>\n",
       "      <td>8.11</td>\n",
       "      <td>2</td>\n",
       "      <td>2010</td>\n",
       "      <td>sem1</td>\n",
       "      <td>Friday</td>\n",
       "    </tr>\n",
       "    <tr>\n",
       "      <th>3</th>\n",
       "      <td>1</td>\n",
       "      <td>2010-02-26</td>\n",
       "      <td>1409727.59</td>\n",
       "      <td>0</td>\n",
       "      <td>46.63</td>\n",
       "      <td>2.56</td>\n",
       "      <td>211.32</td>\n",
       "      <td>8.11</td>\n",
       "      <td>2</td>\n",
       "      <td>2010</td>\n",
       "      <td>sem1</td>\n",
       "      <td>Friday</td>\n",
       "    </tr>\n",
       "    <tr>\n",
       "      <th>4</th>\n",
       "      <td>1</td>\n",
       "      <td>2010-03-05</td>\n",
       "      <td>1554806.68</td>\n",
       "      <td>0</td>\n",
       "      <td>46.50</td>\n",
       "      <td>2.62</td>\n",
       "      <td>211.35</td>\n",
       "      <td>8.11</td>\n",
       "      <td>3</td>\n",
       "      <td>2010</td>\n",
       "      <td>sem1</td>\n",
       "      <td>Friday</td>\n",
       "    </tr>\n",
       "  </tbody>\n",
       "</table>\n",
       "</div>"
      ],
      "text/plain": [
       "   Store       Date  Weekly_Sales  Holiday_Flag  Temperature  Fuel_Price  \\\n",
       "0      1 2010-02-05    1643690.90             0        42.31        2.57   \n",
       "1      1 2010-02-12    1641957.44             1        38.51        2.55   \n",
       "2      1 2010-02-19    1611968.17             0        39.93        2.51   \n",
       "3      1 2010-02-26    1409727.59             0        46.63        2.56   \n",
       "4      1 2010-03-05    1554806.68             0        46.50        2.62   \n",
       "\n",
       "     CPI  Unemployment  Month  Year Semester     Day  \n",
       "0 211.10          8.11      2  2010     sem1  Friday  \n",
       "1 211.24          8.11      2  2010     sem1  Friday  \n",
       "2 211.29          8.11      2  2010     sem1  Friday  \n",
       "3 211.32          8.11      2  2010     sem1  Friday  \n",
       "4 211.35          8.11      3  2010     sem1  Friday  "
      ]
     },
     "execution_count": 110,
     "metadata": {},
     "output_type": "execute_result"
    }
   ],
   "source": [
    "walmart.head()"
   ]
  },
  {
   "cell_type": "code",
   "execution_count": null,
   "id": "c8e72884",
   "metadata": {},
   "outputs": [],
   "source": []
  }
 ],
 "metadata": {
  "kernelspec": {
   "display_name": "Python 3 (ipykernel)",
   "language": "python",
   "name": "python3"
  },
  "language_info": {
   "codemirror_mode": {
    "name": "ipython",
    "version": 3
   },
   "file_extension": ".py",
   "mimetype": "text/x-python",
   "name": "python",
   "nbconvert_exporter": "python",
   "pygments_lexer": "ipython3",
   "version": "3.9.7"
  }
 },
 "nbformat": 4,
 "nbformat_minor": 5
}
